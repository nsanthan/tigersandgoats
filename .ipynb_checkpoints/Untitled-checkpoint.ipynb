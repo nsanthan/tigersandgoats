{
 "cells": [
  {
   "cell_type": "code",
   "execution_count": 3,
   "id": "8af985dc",
   "metadata": {},
   "outputs": [],
   "source": [
    "import numpy as np\n",
    "import numpy.random as npr\n",
    "\n",
    "import keras\n",
    "from keras import models\n",
    "from keras import layers\n",
    "\n",
    "import tensorflow as tf"
   ]
  },
  {
   "cell_type": "code",
   "execution_count": 4,
   "id": "f08785c2",
   "metadata": {},
   "outputs": [],
   "source": [
    "hg = __import__('game-fall23')"
   ]
  },
  {
   "cell_type": "code",
   "execution_count": 9,
   "id": "e909e909",
   "metadata": {},
   "outputs": [
    {
     "name": "stdout",
     "output_type": "stream",
     "text": [
      "game.state.whoseturn: Tiger\n",
      "Move possible for b0\n",
      "game.state.whoseturn: Goat\n"
     ]
    }
   ],
   "source": [
    "game = hg.Game()\n",
    "board = hg.Board(graphics=True)\n",
    "game.attachboard(board)"
   ]
  },
  {
   "cell_type": "code",
   "execution_count": 12,
   "id": "8045604c",
   "metadata": {},
   "outputs": [],
   "source": [
    "tiger = hg.greedyTiger(game)\n",
    "ngoat = hg.neuralGoat(game)\n",
    "game.addplayers(tiger, ngoat)"
   ]
  },
  {
   "cell_type": "code",
   "execution_count": null,
   "id": "69529c8c",
   "metadata": {},
   "outputs": [],
   "source": [
    "game.gamelogic()\n"
   ]
  },
  {
   "cell_type": "code",
   "execution_count": 24,
   "id": "9ad2f40d",
   "metadata": {},
   "outputs": [
    {
     "name": "stdout",
     "output_type": "stream",
     "text": [
      "['a1', 'a2', 'a3', 'b0', 'b1', 'b2', 'b3', 'b4', 'c1', 'c2', 'c3', 'c4', 'd1', 'd2', 'd3', 'd4', 'e1', 'e2', 'e3', 'e4', 'f1', 'f2', 'f3']\n",
      "['b3' 'a2' 'b2' 'b4' 'd2' 'd3' 'f3' 'e4' 'e3' 'c3' 'f2' 'e2' 'a3' 'd4'\n",
      " 'f1' 'a1' 'd1' 'b1' 'c2' 'c1' 'e1' 'c4' 'b0']\n"
     ]
    }
   ],
   "source": [
    "tempBoard = hg.Board(graphics = False)\n",
    "print(tempBoard.addresslist)\n",
    "randompositionorder = npr.choice(tempBoard.addresslist, size = (23,), replace=False)\n",
    "print(randompositionorder)    "
   ]
  },
  {
   "cell_type": "code",
   "execution_count": 25,
   "id": "bfe74cee",
   "metadata": {},
   "outputs": [
    {
     "name": "stdout",
     "output_type": "stream",
     "text": [
      "Matrix representation of board:\n",
      " [[1. 0. 0.]\n",
      " [0. 1. 0.]\n",
      " [1. 0. 0.]\n",
      " [0. 1. 0.]\n",
      " [1. 0. 0.]\n",
      " [0. 1. 0.]\n",
      " [1. 0. 0.]\n",
      " [0. 1. 0.]\n",
      " [0. 1. 0.]\n",
      " [1. 0. 0.]\n",
      " [0. 1. 0.]\n",
      " [0. 1. 0.]\n",
      " [0. 1. 0.]\n",
      " [0. 0. 1.]\n",
      " [0. 1. 0.]\n",
      " [0. 1. 0.]\n",
      " [0. 1. 0.]\n",
      " [0. 1. 0.]\n",
      " [0. 0. 1.]\n",
      " [1. 0. 0.]\n",
      " [0. 1. 0.]\n",
      " [1. 0. 0.]\n",
      " [0. 0. 1.]] \n",
      " Number of goats: 13 \n",
      " In place phase of game?:  0 \n",
      " Number of goats placed:  15 \n",
      " Value:  9\n"
     ]
    }
   ],
   "source": [
    "training = []\n",
    "target = []\n",
    "for num in range(1):\n",
    "    tempBoard = hg.Board(graphics = False)\n",
    "    numtigers = 3\n",
    "    numgoats = npr.choice(range(12,16))\n",
    "    randompositionorder = npr.choice(tempBoard.addresslist,size=(23,),replace=False)\n",
    "    \n",
    "    for num in range(numtigers):\n",
    "        tiger = hg.Tiger(tempBoard, num)\n",
    "        tiger.place(randompositionorder[num])\n",
    "    \n",
    "    for num in range(numgoats):\n",
    "        goat = hg.Goat(tempBoard,num)\n",
    "        goat.place(randompositionorder[num+3])\n",
    "     \n",
    "    matrix = hg.Game.State.board2matrix(game,tempBoard)\n",
    "    value = hg.neuralGoat.valuefunc(ngoat, matrix)\n",
    "    place = npr.choice(range(1))\n",
    "    if numgoats == 15:\n",
    "        place = 0\n",
    "    if place:\n",
    "        numgoatsplaced = npr.choice(range(numgoats,15))\n",
    "    else:\n",
    "        numgoatsplaced = 15 \n",
    "        \n",
    "\n",
    "    state = [matrix, place, numgoatsplaced]\n",
    "    training.append(state)\n",
    "    target.append(value)\n",
    "    print('Matrix representation of board:\\n', matrix, \n",
    "          '\\n Number of goats:',numgoats, \n",
    "          '\\n In place phase of game?: ',place, \n",
    "          '\\n Number of goats placed: ', numgoatsplaced, \n",
    "          '\\n Value: ',value)"
   ]
  },
  {
   "cell_type": "code",
   "execution_count": 26,
   "id": "e150256e",
   "metadata": {},
   "outputs": [
    {
     "name": "stdout",
     "output_type": "stream",
     "text": [
      "[[array([[1., 0., 0.],\n",
      "       [0., 1., 0.],\n",
      "       [1., 0., 0.],\n",
      "       [0., 1., 0.],\n",
      "       [1., 0., 0.],\n",
      "       [0., 1., 0.],\n",
      "       [1., 0., 0.],\n",
      "       [0., 1., 0.],\n",
      "       [0., 1., 0.],\n",
      "       [1., 0., 0.],\n",
      "       [0., 1., 0.],\n",
      "       [0., 1., 0.],\n",
      "       [0., 1., 0.],\n",
      "       [0., 0., 1.],\n",
      "       [0., 1., 0.],\n",
      "       [0., 1., 0.],\n",
      "       [0., 1., 0.],\n",
      "       [0., 1., 0.],\n",
      "       [0., 0., 1.],\n",
      "       [1., 0., 0.],\n",
      "       [0., 1., 0.],\n",
      "       [1., 0., 0.],\n",
      "       [0., 0., 1.]]), 0, 15]]\n"
     ]
    }
   ],
   "source": [
    "print(training)\n"
   ]
  },
  {
   "cell_type": "code",
   "execution_count": null,
   "id": "412f635a",
   "metadata": {},
   "outputs": [],
   "source": []
  }
 ],
 "metadata": {
  "kernelspec": {
   "display_name": "Python 3",
   "language": "python",
   "name": "python3"
  },
  "language_info": {
   "codemirror_mode": {
    "name": "ipython",
    "version": 3
   },
   "file_extension": ".py",
   "mimetype": "text/x-python",
   "name": "python",
   "nbconvert_exporter": "python",
   "pygments_lexer": "ipython3",
   "version": "3.8.5"
  }
 },
 "nbformat": 4,
 "nbformat_minor": 5
}
