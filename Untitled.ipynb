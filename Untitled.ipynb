{
 "cells": [
  {
   "cell_type": "code",
   "execution_count": 1,
   "id": "8af985dc",
   "metadata": {},
   "outputs": [],
   "source": [
    "import numpy as np\n",
    "import numpy.random as npr\n",
    "\n",
    "import keras\n",
    "from keras import models\n",
    "from keras import layers\n",
    "\n",
    "import tensorflow as tf"
   ]
  },
  {
   "cell_type": "code",
   "execution_count": 2,
   "id": "f08785c2",
   "metadata": {},
   "outputs": [],
   "source": [
    "hg = __import__('game-fall23')"
   ]
  },
  {
   "cell_type": "code",
   "execution_count": 3,
   "id": "e909e909",
   "metadata": {},
   "outputs": [
    {
     "name": "stdout",
     "output_type": "stream",
     "text": [
      "game.state.whoseturn: Tiger\n",
      "Move possible for b0\n",
      "game.state.whoseturn: Goat\n"
     ]
    }
   ],
   "source": [
    "game = hg.Game()\n",
    "board = hg.Board(graphics=True)\n",
    "game.attachboard(board)"
   ]
  },
  {
   "cell_type": "code",
   "execution_count": 4,
   "id": "8045604c",
   "metadata": {},
   "outputs": [],
   "source": [
    "tiger = hg.greedyTiger(game)\n",
    "ngoat = hg.neuralGoat(game)\n",
    "game.addplayers(tiger, ngoat)"
   ]
  },
  {
   "cell_type": "code",
   "execution_count": null,
   "id": "69529c8c",
   "metadata": {},
   "outputs": [],
   "source": [
    "game.gamelogic()\n"
   ]
  },
  {
   "cell_type": "code",
   "execution_count": 5,
   "id": "90585a6b",
   "metadata": {},
   "outputs": [
    {
     "name": "stdout",
     "output_type": "stream",
     "text": [
      "['a1', 'a2', 'a3', 'b0', 'b1', 'b2', 'b3', 'b4', 'c1', 'c2', 'c3', 'c4', 'd1', 'd2', 'd3', 'd4', 'e1', 'e2', 'e3', 'e4', 'f1', 'f2', 'f3']\n",
      "['c3' 'a1' 'f1' 'e2' 'f2' 'c4' 'b3' 'e1' 'b1' 'c1' 'e3' 'f3' 'a3' 'd4'\n",
      " 'd3' 'd1' 'b0' 'c2' 'a2' 'b4' 'e4' 'b2' 'd2']\n"
     ]
    }
   ],
   "source": [
    "tempBoard = hg.Board(graphics = False)\n",
    "print(tempBoard.addresslist)\n",
    "randompositionorder = npr.choice(tempBoard.addresslist, size = (23,), replace=False)\n",
    "print(randompositionorder)    "
   ]
  },
  {
   "cell_type": "code",
   "execution_count": 6,
   "id": "bfe74cee",
   "metadata": {},
   "outputs": [],
   "source": [
    "train_size = 50000\n",
    "\n",
    "training = np.zeros((train_size,24*3))\n",
    "target = []\n",
    "for num in range(train_size):\n",
    "    tempBoard = hg.Board(graphics = False)\n",
    "    numtigers = 3\n",
    "    numgoats = npr.choice(range(12,16))\n",
    "    randompositionorder = npr.choice(tempBoard.addresslist,size=(23,),replace=False)\n",
    "    \n",
    "    for numtiger in range(numtigers):\n",
    "        tiger = hg.Tiger(tempBoard, numtiger)\n",
    "        tiger.place(randompositionorder[numtiger])\n",
    "    \n",
    "    for numgoat in range(numgoats):\n",
    "        goat = hg.Goat(tempBoard,numgoat)\n",
    "        goat.place(randompositionorder[numgoat+3])\n",
    "     \n",
    "    matrix = hg.Game.State.board2matrix(game,tempBoard)\n",
    "    value = hg.neuralGoat.valuefunc(ngoat, matrix)\n",
    "    place = npr.choice(range(2))\n",
    "    if numgoats == 15:\n",
    "        place = 0\n",
    "    if place:\n",
    "        numgoatsplaced = npr.choice(range(numgoats,15))\n",
    "    else:\n",
    "        numgoatsplaced = 15 \n",
    "     \n",
    "    if place:#in the place phase \n",
    "        place=[1,0,0]\n",
    "    else:\n",
    "        place=[0,1,0]\n",
    "        \n",
    "    place[2]=(numgoatsplaced-numgoats)\n",
    "    place = np.array(place).reshape(1,3)\n",
    "    state = np.vstack((matrix,place)).ravel()\n",
    "    training[num] = state\n",
    "    target.append(value)\n"
   ]
  },
  {
   "cell_type": "code",
   "execution_count": 7,
   "id": "5ba304ec",
   "metadata": {},
   "outputs": [
    {
     "name": "stdout",
     "output_type": "stream",
     "text": [
      "(50000, 72) (50000, 1)\n",
      "272.0 -359.91908562000185\n"
     ]
    }
   ],
   "source": [
    "training = training.astype(np.float32)\n",
    "\n",
    "target = np.array(target).reshape(train_size,1)\n",
    "print(training.shape, target.shape)\n",
    "print(np.max(target), np.min(target))\n"
   ]
  },
  {
   "cell_type": "code",
   "execution_count": 8,
   "id": "412f635a",
   "metadata": {},
   "outputs": [
    {
     "name": "stdout",
     "output_type": "stream",
     "text": [
      "Model: \"sequential\"\n",
      "_________________________________________________________________\n",
      "Layer (type)                 Output Shape              Param #   \n",
      "=================================================================\n",
      "input_layer (Dense)          (None, 200)               14600     \n",
      "_________________________________________________________________\n",
      "hidden_layer_1 (Dense)       (None, 150)               30150     \n",
      "_________________________________________________________________\n",
      "hidden_layer_2 (Dense)       (None, 75)                11325     \n",
      "_________________________________________________________________\n",
      "output_layer (Dense)         (None, 1)                 76        \n",
      "=================================================================\n",
      "Total params: 56,151\n",
      "Trainable params: 56,151\n",
      "Non-trainable params: 0\n",
      "_________________________________________________________________\n"
     ]
    }
   ],
   "source": [
    "from sklearn.utils import shuffle\n",
    "from sklearn.model_selection import train_test_split\n",
    "from keras.optimizers import SGD, Nadam\n",
    "\n",
    "\n",
    "training, target = shuffle(training, target)\n",
    "\n",
    "training_train, training_test, target_train, target_test = train_test_split(training, target, test_size=0.15, random_state=0)\n",
    "\n",
    "initializer = tf.keras.initializers.RandomNormal(stddev = 1)\n",
    "\n",
    "model = keras.Sequential()\n",
    "model.add(keras.Input(shape=(24*3,)))\n",
    "model.add(layers.Dense(200, \n",
    "                       activation=\"relu\", \n",
    "                       name=\"input_layer\",\n",
    "                       kernel_regularizer=tf.keras.regularizers.L1(.5),\n",
    "                       kernel_initializer=tf.keras.initializers.RandomNormal(stddev= .5)))\n",
    "model.add(layers.Dense(150,\n",
    "                       activation=\"relu\",\n",
    "                       name=\"hidden_layer_1\",\n",
    "                       kernel_initializer=tf.keras.initializers.RandomNormal(stddev = .5)))\n",
    "model.add(layers.Dense(75,\n",
    "                       activation=\"relu\",\n",
    "                       name=\"hidden_layer_2\",\n",
    "                       kernel_initializer=tf.keras.initializers.RandomNormal(stddev = .5)))\n",
    "model.add(layers.Dense(1,\n",
    "                       name=\"output_layer\",\n",
    "                       kernel_initializer=tf.keras.initializers.RandomNormal(stddev = .5)))\n",
    "model.summary()\n",
    "\n",
    "\n"
   ]
  },
  {
   "cell_type": "code",
   "execution_count": 9,
   "id": "4beef1d1",
   "metadata": {},
   "outputs": [
    {
     "name": "stdout",
     "output_type": "stream",
     "text": [
      "Epoch 1/100\n",
      "850/850 [==============================] - 1s 649us/step - loss: 6337.9282\n",
      "Epoch 2/100\n",
      "850/850 [==============================] - 1s 634us/step - loss: 4615.7559\n",
      "Epoch 3/100\n",
      "850/850 [==============================] - 1s 636us/step - loss: 4025.3801\n",
      "Epoch 4/100\n",
      "850/850 [==============================] - 1s 623us/step - loss: 3613.0647\n",
      "Epoch 5/100\n",
      "850/850 [==============================] - 1s 638us/step - loss: 3312.3738\n",
      "Epoch 6/100\n",
      "850/850 [==============================] - 1s 629us/step - loss: 3067.4944\n",
      "Epoch 7/100\n",
      "850/850 [==============================] - 1s 636us/step - loss: 2855.7769\n",
      "Epoch 8/100\n",
      "850/850 [==============================] - 1s 745us/step - loss: 2673.5125\n",
      "Epoch 9/100\n",
      "850/850 [==============================] - 1s 641us/step - loss: 2516.1526\n",
      "Epoch 10/100\n",
      "850/850 [==============================] - 1s 629us/step - loss: 2372.6394\n",
      "Epoch 11/100\n",
      "850/850 [==============================] - 1s 639us/step - loss: 2244.4854\n",
      "Epoch 12/100\n",
      "850/850 [==============================] - 1s 645us/step - loss: 2130.5635\n",
      "Epoch 13/100\n",
      "850/850 [==============================] - 1s 641us/step - loss: 2026.3820\n",
      "Epoch 14/100\n",
      "850/850 [==============================] - 1s 669us/step - loss: 1936.6727\n",
      "Epoch 15/100\n",
      "850/850 [==============================] - 1s 637us/step - loss: 1845.4159\n",
      "Epoch 16/100\n",
      "850/850 [==============================] - 1s 663us/step - loss: 1770.4095\n",
      "Epoch 17/100\n",
      "850/850 [==============================] - 1s 672us/step - loss: 1697.5277\n",
      "Epoch 18/100\n",
      "850/850 [==============================] - 1s 753us/step - loss: 1627.1738\n",
      "Epoch 19/100\n",
      "850/850 [==============================] - 1s 719us/step - loss: 1567.5631\n",
      "Epoch 20/100\n",
      "850/850 [==============================] - 1s 645us/step - loss: 1505.7681\n",
      "Epoch 21/100\n",
      "850/850 [==============================] - 1s 648us/step - loss: 1454.8661\n",
      "Epoch 22/100\n",
      "850/850 [==============================] - 1s 636us/step - loss: 1404.9471\n",
      "Epoch 23/100\n",
      "850/850 [==============================] - 1s 636us/step - loss: 1353.6786\n",
      "Epoch 24/100\n",
      "850/850 [==============================] - 1s 638us/step - loss: 1311.1466\n",
      "Epoch 25/100\n",
      "850/850 [==============================] - 1s 639us/step - loss: 1272.6455\n",
      "Epoch 26/100\n",
      "850/850 [==============================] - 1s 722us/step - loss: 1234.8523\n",
      "Epoch 27/100\n",
      "850/850 [==============================] - 1s 925us/step - loss: 1192.4054\n",
      "Epoch 28/100\n",
      "850/850 [==============================] - 1s 664us/step - loss: 1161.8716\n",
      "Epoch 29/100\n",
      "850/850 [==============================] - 1s 679us/step - loss: 1129.4034\n",
      "Epoch 30/100\n",
      "850/850 [==============================] - 1s 698us/step - loss: 1097.0514\n",
      "Epoch 31/100\n",
      "850/850 [==============================] - 1s 663us/step - loss: 1071.5238\n",
      "Epoch 32/100\n",
      "850/850 [==============================] - 1s 681us/step - loss: 1043.5094\n",
      "Epoch 33/100\n",
      "850/850 [==============================] - 1s 679us/step - loss: 1017.6680\n",
      "Epoch 34/100\n",
      "850/850 [==============================] - 1s 677us/step - loss: 994.5706\n",
      "Epoch 35/100\n",
      "850/850 [==============================] - 1s 675us/step - loss: 972.4883\n",
      "Epoch 36/100\n",
      "850/850 [==============================] - 1s 690us/step - loss: 948.6949\n",
      "Epoch 37/100\n",
      "850/850 [==============================] - 1s 703us/step - loss: 929.1693\n",
      "Epoch 38/100\n",
      "850/850 [==============================] - 1s 711us/step - loss: 912.0432\n",
      "Epoch 39/100\n",
      "850/850 [==============================] - 1s 691us/step - loss: 893.0233\n",
      "Epoch 40/100\n",
      "850/850 [==============================] - 1s 695us/step - loss: 878.0103\n",
      "Epoch 41/100\n",
      "850/850 [==============================] - 1s 796us/step - loss: 862.6902\n",
      "Epoch 42/100\n",
      "850/850 [==============================] - 1s 645us/step - loss: 845.5567\n",
      "Epoch 43/100\n",
      "850/850 [==============================] - 1s 632us/step - loss: 828.9576\n",
      "Epoch 44/100\n",
      "850/850 [==============================] - 1s 636us/step - loss: 813.4493\n",
      "Epoch 45/100\n",
      "850/850 [==============================] - 1s 627us/step - loss: 801.2608\n",
      "Epoch 46/100\n",
      "850/850 [==============================] - 1s 644us/step - loss: 793.4023\n",
      "Epoch 47/100\n",
      "850/850 [==============================] - 1s 636us/step - loss: 777.8511\n",
      "Epoch 48/100\n",
      "850/850 [==============================] - 1s 648us/step - loss: 765.0622\n",
      "Epoch 49/100\n",
      "850/850 [==============================] - 1s 631us/step - loss: 757.1332\n",
      "Epoch 50/100\n",
      "850/850 [==============================] - 1s 662us/step - loss: 744.9588\n",
      "Epoch 51/100\n",
      "850/850 [==============================] - 1s 821us/step - loss: 730.8338\n",
      "Epoch 52/100\n",
      "850/850 [==============================] - 1s 674us/step - loss: 723.4813\n",
      "Epoch 53/100\n",
      "850/850 [==============================] - 1s 692us/step - loss: 714.4340\n",
      "Epoch 54/100\n",
      "850/850 [==============================] - 1s 905us/step - loss: 707.5983\n",
      "Epoch 55/100\n",
      "850/850 [==============================] - 1s 943us/step - loss: 697.4951\n",
      "Epoch 56/100\n",
      "850/850 [==============================] - 1s 689us/step - loss: 689.6164\n",
      "Epoch 57/100\n",
      "850/850 [==============================] - 1s 733us/step - loss: 683.1348\n",
      "Epoch 58/100\n",
      "850/850 [==============================] - 1s 617us/step - loss: 675.0750\n",
      "Epoch 59/100\n",
      "850/850 [==============================] - 1s 622us/step - loss: 666.0184\n",
      "Epoch 60/100\n",
      "850/850 [==============================] - 1s 637us/step - loss: 658.4586\n",
      "Epoch 61/100\n",
      "850/850 [==============================] - 1s 644us/step - loss: 651.9229\n",
      "Epoch 62/100\n",
      "850/850 [==============================] - 1s 630us/step - loss: 646.3903\n",
      "Epoch 63/100\n",
      "850/850 [==============================] - 1s 634us/step - loss: 641.1481\n",
      "Epoch 64/100\n",
      "850/850 [==============================] - 1s 642us/step - loss: 632.4971\n",
      "Epoch 65/100\n",
      "850/850 [==============================] - 1s 703us/step - loss: 625.5414\n",
      "Epoch 66/100\n",
      "850/850 [==============================] - 1s 612us/step - loss: 620.8455\n",
      "Epoch 67/100\n",
      "850/850 [==============================] - 1s 671us/step - loss: 614.6569\n",
      "Epoch 68/100\n",
      "850/850 [==============================] - 1s 1ms/step - loss: 608.3635\n",
      "Epoch 69/100\n",
      "850/850 [==============================] - 1s 737us/step - loss: 603.0345\n",
      "Epoch 70/100\n",
      "850/850 [==============================] - 1s 840us/step - loss: 598.5364\n",
      "Epoch 71/100\n",
      "850/850 [==============================] - 1s 698us/step - loss: 593.9996\n",
      "Epoch 72/100\n",
      "850/850 [==============================] - 1s 649us/step - loss: 588.1575\n",
      "Epoch 73/100\n",
      "850/850 [==============================] - 1s 665us/step - loss: 584.7424\n",
      "Epoch 74/100\n",
      "850/850 [==============================] - 1s 639us/step - loss: 575.4249\n",
      "Epoch 75/100\n",
      "850/850 [==============================] - 1s 677us/step - loss: 572.1035\n",
      "Epoch 76/100\n",
      "850/850 [==============================] - 1s 636us/step - loss: 570.5217\n",
      "Epoch 77/100\n",
      "850/850 [==============================] - 1s 629us/step - loss: 564.6190\n",
      "Epoch 78/100\n",
      "850/850 [==============================] - 1s 634us/step - loss: 560.2225\n",
      "Epoch 79/100\n",
      "850/850 [==============================] - 1s 663us/step - loss: 558.2941\n",
      "Epoch 80/100\n",
      "850/850 [==============================] - 1s 638us/step - loss: 552.2715\n",
      "Epoch 81/100\n",
      "850/850 [==============================] - 1s 632us/step - loss: 547.8920\n",
      "Epoch 82/100\n",
      "850/850 [==============================] - 1s 636us/step - loss: 541.3947\n",
      "Epoch 83/100\n",
      "850/850 [==============================] - 1s 640us/step - loss: 539.9050\n",
      "Epoch 84/100\n",
      "850/850 [==============================] - 1s 639us/step - loss: 536.6530\n",
      "Epoch 85/100\n",
      "850/850 [==============================] - 1s 624us/step - loss: 536.7167\n",
      "Epoch 86/100\n",
      "850/850 [==============================] - 1s 663us/step - loss: 533.2894\n",
      "Epoch 87/100\n",
      "850/850 [==============================] - 1s 649us/step - loss: 526.4884\n",
      "Epoch 88/100\n",
      "850/850 [==============================] - 1s 630us/step - loss: 522.5826\n",
      "Epoch 89/100\n",
      "850/850 [==============================] - 1s 629us/step - loss: 523.5687\n",
      "Epoch 90/100\n",
      "850/850 [==============================] - 1s 649us/step - loss: 519.4507\n",
      "Epoch 91/100\n",
      "850/850 [==============================] - 1s 643us/step - loss: 512.6641\n",
      "Epoch 92/100\n",
      "850/850 [==============================] - 1s 646us/step - loss: 512.7839\n",
      "Epoch 93/100\n",
      "850/850 [==============================] - 1s 634us/step - loss: 511.2330\n",
      "Epoch 94/100\n"
     ]
    },
    {
     "name": "stdout",
     "output_type": "stream",
     "text": [
      "850/850 [==============================] - 1s 637us/step - loss: 508.6919\n",
      "Epoch 95/100\n",
      "850/850 [==============================] - 1s 643us/step - loss: 505.1437\n",
      "Epoch 96/100\n",
      "850/850 [==============================] - 1s 637us/step - loss: 503.8067\n",
      "Epoch 97/100\n",
      "850/850 [==============================] - 1s 648us/step - loss: 501.1800\n",
      "Epoch 98/100\n",
      "850/850 [==============================] - 1s 661us/step - loss: 494.8546\n",
      "Epoch 99/100\n",
      "850/850 [==============================] - 1s 623us/step - loss: 492.6655\n",
      "Epoch 100/100\n",
      "850/850 [==============================] - 1s 607us/step - loss: 488.2232\n"
     ]
    },
    {
     "data": {
      "text/plain": [
       "<tensorflow.python.keras.callbacks.History at 0x20d8affadf0>"
      ]
     },
     "execution_count": 9,
     "metadata": {},
     "output_type": "execute_result"
    }
   ],
   "source": [
    "model.compile(loss=tf.keras.losses.MeanSquaredError(), optimizer='rmsprop')\n",
    "model.fit(training_train, target_train, epochs=100, batch_size=50)\n",
    "\n"
   ]
  },
  {
   "cell_type": "code",
   "execution_count": 10,
   "id": "2c848757",
   "metadata": {},
   "outputs": [
    {
     "name": "stdout",
     "output_type": "stream",
     "text": [
      "443.1310430931882\n"
     ]
    }
   ],
   "source": [
    "print(np.mean((model.predict(training_test) -target_test)**2))\n",
    "# If you need to run more epochs:\n",
    "\n",
    "#model.fit(training, target, epochs=20, batch_size=100)\n"
   ]
  },
  {
   "cell_type": "code",
   "execution_count": 11,
   "id": "f112cdef",
   "metadata": {},
   "outputs": [
    {
     "data": {
      "text/plain": [
       "[<matplotlib.lines.Line2D at 0x20d8bde9f40>]"
      ]
     },
     "execution_count": 11,
     "metadata": {},
     "output_type": "execute_result"
    },
    {
     "data": {
      "image/png": "[encoded data removed]",
      "text/plain": [
       "<Figure size 432x288 with 1 Axes>"
      ]
     },
     "metadata": {
      "needs_background": "light"
     },
     "output_type": "display_data"
    }
   ],
   "source": [
    "import matplotlib.pyplot as plt\n",
    "\n",
    "sortindex = list(range(len(target)))\n",
    "sortindex.sort(key = lambda x: target[x])\n",
    "plt.plot(target[sortindex], model.predict(training)[sortindex])"
   ]
  },
  {
   "cell_type": "code",
   "execution_count": 12,
   "id": "8a3d18c8",
   "metadata": {},
   "outputs": [
    {
     "name": "stdout",
     "output_type": "stream",
     "text": [
      "[[ 82.61918 ]\n",
      " [113.765   ]\n",
      " [ 87.035645]\n",
      " ...\n",
      " [ 73.373795]\n",
      " [163.10208 ]\n",
      " [ 38.032215]]\n",
      "(50000, 72) (72, 200) (200,)\n",
      "(50000, 200) (200, 150) (150,)\n",
      "(50000, 150) (150, 75) (75,)\n"
     ]
    }
   ],
   "source": [
    "print(model.predict(training))\n",
    "\n",
    "w0 = model.layers[0].get_weights()\n",
    "w1 = model.layers[1].get_weights()\n",
    "w2 = model.layers[2].get_weights()\n",
    "w3 = model.layers[3].get_weights()\n",
    "\n",
    "\n",
    "\n",
    "\n",
    "def layerpredict(X, u):\n",
    "    w = u.copy()\n",
    "    print(X.shape, w[0].shape, w[1].shape)\n",
    "    a = np.zeros((X @ w[0]).shape)\n",
    "    n = w[1].shape[0]\n",
    "    w[1]= w[1].reshape(1,n)\n",
    "    a = X@ w[0] + w[1]\n",
    "    a = np.where(a>0, a, 0)\n",
    "    return a\n",
    "\n",
    "myoutput = layerpredict(layerpredict(layerpredict(training, w0),w1),w2) @ w3[0]+w3[1]\n"
   ]
  },
  {
   "cell_type": "code",
   "execution_count": null,
   "id": "c500005d",
   "metadata": {},
   "outputs": [],
   "source": [
    "print(myoutput)"
   ]
  },
  {
   "cell_type": "code",
   "execution_count": 13,
   "id": "5d7f795b",
   "metadata": {},
   "outputs": [],
   "source": [
    "import pickle \n",
    "W = [w0, w1, w2, w3]\n",
    "model_pkl_file = 'nngoat.pkl'\n",
    "with open(model_pkl_file, 'wb') as file:\n",
    "    pickle.dump(W, file)"
   ]
  },
  {
   "cell_type": "code",
   "execution_count": null,
   "id": "ef6dcdfb",
   "metadata": {},
   "outputs": [],
   "source": []
  }
 ],
 "metadata": {
  "kernelspec": {
   "display_name": "Python 3",
   "language": "python",
   "name": "python3"
  },
  "language_info": {
   "codemirror_mode": {
    "name": "ipython",
    "version": 3
   },
   "file_extension": ".py",
   "mimetype": "text/x-python",
   "name": "python",
   "nbconvert_exporter": "python",
   "pygments_lexer": "ipython3",
   "version": "3.8.5"
  }
 },
 "nbformat": 4,
 "nbformat_minor": 5
}
